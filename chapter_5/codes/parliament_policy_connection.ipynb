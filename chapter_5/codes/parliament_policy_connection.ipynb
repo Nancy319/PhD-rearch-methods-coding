{
 "cells": [
  {
   "cell_type": "code",
   "execution_count": 1,
   "metadata": {},
   "outputs": [],
   "source": [
    "import numpy as np\n",
    "import pandas as pd"
   ]
  },
  {
   "cell_type": "code",
   "execution_count": 2,
   "metadata": {},
   "outputs": [],
   "source": [
    "from fuzzywuzzy import fuzz, process\n",
    "from tqdm import tqdm"
   ]
  },
  {
   "cell_type": "code",
   "execution_count": 7,
   "metadata": {},
   "outputs": [],
   "source": [
    "pd.options.display.max_colwidth = 1000"
   ]
  },
  {
   "cell_type": "code",
   "execution_count": 3,
   "metadata": {},
   "outputs": [
    {
     "data": {
      "text/plain": [
       "189"
      ]
     },
     "execution_count": 3,
     "metadata": {},
     "output_type": "execute_result"
    }
   ],
   "source": [
    "# Load policy titles from file\n",
    "with open('../data/Overton/covid_03_01/combined_policy_titles.txt') as f:\n",
    "    unique_policy_titles = f.read().splitlines()\n",
    "len(unique_policy_titles)"
   ]
  },
  {
   "cell_type": "code",
   "execution_count": 4,
   "metadata": {},
   "outputs": [
    {
     "name": "stdout",
     "output_type": "stream",
     "text": [
      "<class 'pandas.core.frame.DataFrame'>\n",
      "RangeIndex: 61296 entries, 0 to 61295\n",
      "Data columns (total 3 columns):\n",
      " #   Column   Non-Null Count  Dtype \n",
      "---  ------   --------------  ----- \n",
      " 0   date     61296 non-null  object\n",
      " 1   content  61295 non-null  object\n",
      " 2   speaker  61296 non-null  object\n",
      "dtypes: object(3)\n",
      "memory usage: 1.4+ MB\n"
     ]
    }
   ],
   "source": [
    "parliament = pd.read_csv('../data/parliament_argus.csv')\n",
    "parliament.info()"
   ]
  },
  {
   "cell_type": "code",
   "execution_count": 10,
   "metadata": {},
   "outputs": [
    {
     "name": "stdout",
     "output_type": "stream",
     "text": [
      "<class 'pandas.core.frame.DataFrame'>\n",
      "RangeIndex: 108 entries, 0 to 107\n",
      "Data columns (total 6 columns):\n",
      " #   Column          Non-Null Count  Dtype \n",
      "---  ------          --------------  ----- \n",
      " 0   Unnamed: 0      108 non-null    int64 \n",
      " 1   file_name       108 non-null    object\n",
      " 2   url             108 non-null    object\n",
      " 3   published_date  108 non-null    object\n",
      " 4   file_type       108 non-null    object\n",
      " 5   file_content    106 non-null    object\n",
      "dtypes: int64(1), object(5)\n",
      "memory usage: 5.2+ KB\n"
     ]
    }
   ],
   "source": [
    "cabinet = pd.read_csv('../data/cabinet/pdf_files.csv')\n",
    "cabinet.info()"
   ]
  },
  {
   "cell_type": "code",
   "execution_count": 16,
   "metadata": {},
   "outputs": [
    {
     "name": "stderr",
     "output_type": "stream",
     "text": [
      "/usr/local/lib/python3.7/site-packages/ipykernel_launcher.py:10: UserWarning: This pattern has match groups. To actually get the groups, use str.extract.\n",
      "  # Remove the CWD from sys.path while we load stuff.\n"
     ]
    },
    {
     "data": {
      "text/html": [
       "<div>\n",
       "<style scoped>\n",
       "    .dataframe tbody tr th:only-of-type {\n",
       "        vertical-align: middle;\n",
       "    }\n",
       "\n",
       "    .dataframe tbody tr th {\n",
       "        vertical-align: top;\n",
       "    }\n",
       "\n",
       "    .dataframe thead th {\n",
       "        text-align: right;\n",
       "    }\n",
       "</style>\n",
       "<table border=\"1\" class=\"dataframe\">\n",
       "  <thead>\n",
       "    <tr style=\"text-align: right;\">\n",
       "      <th></th>\n",
       "      <th>date</th>\n",
       "      <th>content</th>\n",
       "      <th>speaker</th>\n",
       "    </tr>\n",
       "  </thead>\n",
       "  <tbody>\n",
       "    <tr>\n",
       "      <th>7697</th>\n",
       "      <td>2020-12-03</td>\n",
       "      <td>Child poverty is another. We took some steps in the last Parliament by legislating the child poverty reduction legislation and started to take that seriously, starting to actually shine a light on what is happening with child poverty in New Zealand. I'm confident, with the leadership of the Prime Minister and also the Minister for Children, the Hon Kelvin Davis, that we will see some really significant change this term, because we have to. We have to make gains and improve the situation of those living in depravation and poverty. Children don't ask and don't choose to live in poverty; it's a circumstance put upon them, and we need to support them, their whānau, their families, their parents to make a difference for them</td>\n",
       "      <td>Hon ANDREW LITTLE (Minister of Health)</td>\n",
       "    </tr>\n",
       "    <tr>\n",
       "      <th>28228</th>\n",
       "      <td>2021-04-08</td>\n",
       "      <td>Next week, the annual review debate will begin. The debate is the committee stage of the Appropriation (2019/20 Confirmation and Validation) Bill and is 10 hours long. It will be conducted under the revised procedures for committee stage, with Ministers responding to questions from members. On Tuesday, the House will consider a motion to approve orders made under the COVID-19 Public Health Response Act 2020 and a motion to continue the Act until the end of the year. Wednesday will be a members' day. A debate on the report of the Finance and Expenditure Committee on the Budget Policy Statement 2021 will replace the general debate. The second reading of the Fair Trading Amendment Bill will also be considered next week</td>\n",
       "      <td>Hon GRANT ROBERTSON (Deputy Prime Minister) Leader of the House</td>\n",
       "    </tr>\n",
       "  </tbody>\n",
       "</table>\n",
       "</div>"
      ],
      "text/plain": [
       "             date  \\\n",
       "7697   2020-12-03   \n",
       "28228  2021-04-08   \n",
       "\n",
       "                                                                                                                                                                                                                                                                                                                                                                                                                                                                                                                                                                                                                                                                                                                                                         content  \\\n",
       "7697   Child poverty is another. We took some steps in the last Parliament by legislating the child poverty reduction legislation and started to take that seriously, starting to actually shine a light on what is happening with child poverty in New Zealand. I'm confident, with the leadership of the Prime Minister and also the Minister for Children, the Hon Kelvin Davis, that we will see some really significant change this term, because we have to. We have to make gains and improve the situation of those living in depravation and poverty. Children don't ask and don't choose to live in poverty; it's a circumstance put upon them, and we need to support them, their whānau, their families, their parents to make a difference for them   \n",
       "28228      Next week, the annual review debate will begin. The debate is the committee stage of the Appropriation (2019/20 Confirmation and Validation) Bill and is 10 hours long. It will be conducted under the revised procedures for committee stage, with Ministers responding to questions from members. On Tuesday, the House will consider a motion to approve orders made under the COVID-19 Public Health Response Act 2020 and a motion to continue the Act until the end of the year. Wednesday will be a members' day. A debate on the report of the Finance and Expenditure Committee on the Budget Policy Statement 2021 will replace the general debate. The second reading of the Fair Trading Amendment Bill will also be considered next week   \n",
       "\n",
       "                                                               speaker  \n",
       "7697                            Hon ANDREW LITTLE (Minister of Health)  \n",
       "28228  Hon GRANT ROBERTSON (Deputy Prime Minister) Leader of the House  "
      ]
     },
     "execution_count": 16,
     "metadata": {},
     "output_type": "execute_result"
    }
   ],
   "source": [
    "## Matching the Overton policy titles with parliament discussion content\n",
    "# drop rows with missing values in 'content' column\n",
    "parliament = parliament.dropna(subset=['content'])\n",
    "\n",
    "# Create a regular expression pattern\n",
    "pattern = '|'.join(unique_policy_titles)\n",
    "pattern = pattern.lower().strip()\n",
    "\n",
    "# Filter rows that contain any policy title\n",
    "matched_rows = parliament[parliament['content'].str.lower().str.contains(pattern, regex=True)]\n",
    "\n",
    "matched_rows"
   ]
  },
  {
   "cell_type": "code",
   "execution_count": 12,
   "metadata": {},
   "outputs": [
    {
     "data": {
      "text/plain": [
       "125"
      ]
     },
     "execution_count": 12,
     "metadata": {},
     "output_type": "execute_result"
    }
   ],
   "source": [
    "# Load testing policy titles from file\n",
    "with open('../data/Overton/covid_03_01/overton_policy_titles1.txt') as f:\n",
    "    unique_policy_titles1 = f.read().splitlines()\n",
    "len(unique_policy_titles1)"
   ]
  },
  {
   "cell_type": "code",
   "execution_count": 5,
   "metadata": {},
   "outputs": [],
   "source": [
    "# Matching the Overton policy titles with parliament discussion content\n",
    "# Drop rows with missing values in 'content' column\n",
    "parliament = parliament.dropna(subset=['content'])\n",
    "\n",
    "# Create a regular expression pattern\n",
    "pattern = '|'.join(unique_policy_titles)\n",
    "pattern = pattern.lower().strip() # convert to lowercase and remove spaces before/after\n",
    "\n",
    "# Filter rows that contain any policy title\n",
    "matched_rows = parliament[parliament['content'].str.lower().str.contains(pattern, regex=True)]"
   ]
  },
  {
   "cell_type": "code",
   "execution_count": 7,
   "metadata": {},
   "outputs": [
    {
     "name": "stderr",
     "output_type": "stream",
     "text": [
      "/usr/local/lib/python3.7/site-packages/ipykernel_launcher.py:2: SettingWithCopyWarning: \n",
      "A value is trying to be set on a copy of a slice from a DataFrame.\n",
      "Try using .loc[row_indexer,col_indexer] = value instead\n",
      "\n",
      "See the caveats in the documentation: https://pandas.pydata.org/pandas-docs/stable/user_guide/indexing.html#returning-a-view-versus-a-copy\n",
      "  \n"
     ]
    },
    {
     "data": {
      "text/html": [
       "<div>\n",
       "<style scoped>\n",
       "    .dataframe tbody tr th:only-of-type {\n",
       "        vertical-align: middle;\n",
       "    }\n",
       "\n",
       "    .dataframe tbody tr th {\n",
       "        vertical-align: top;\n",
       "    }\n",
       "\n",
       "    .dataframe thead th {\n",
       "        text-align: right;\n",
       "    }\n",
       "</style>\n",
       "<table border=\"1\" class=\"dataframe\">\n",
       "  <thead>\n",
       "    <tr style=\"text-align: right;\">\n",
       "      <th></th>\n",
       "      <th>date</th>\n",
       "      <th>content</th>\n",
       "      <th>speaker</th>\n",
       "      <th>matching_title</th>\n",
       "    </tr>\n",
       "  </thead>\n",
       "  <tbody>\n",
       "    <tr>\n",
       "      <th>1090</th>\n",
       "      <td>2020-06-24</td>\n",
       "      <td>Fluffy\", as one of my colleagues says. They want to see that the Government is focused on them. They want to know the Government is focused on them and improving their quality of life. So yep, Treasury's Living Standards Framework—no disagreement around how important that is. It was created under the Rt Hon Bill English's leadership. There's no argument about that it is the Government's job to improve the quality of people's lives and their standard of living and their wellbeing. To actually, though, put it in the Public Finance Act, and then expect economic analysists at Treasury to measure it and report on it are two very, very different things</td>\n",
       "      <td>Hon LOUISE  UPSTON</td>\n",
       "      <td>living standards framework</td>\n",
       "    </tr>\n",
       "    <tr>\n",
       "      <th>2031</th>\n",
       "      <td>2020-06-24</td>\n",
       "      <td>100 million is being invested through Budget 2020 and the COVID recovery package to provide people with jobs, to ensure that people who are guiding in Franz Josef—whose jobs have gone, through no fault of their own, through the redundancies that have been associated with the closure of our borders to protect our country and the drop-off in tourism—can work. They've moved from Franz to Springfield, Arthur's Pass and are working now on protecting the landscapes, protecting our tussock grasslands. It is a sign of this Government's commitment to investing in people, investing in Papatūānuku, so that we have a healthy future</td>\n",
       "      <td>Hon EUGENIE SAGE (Minister of Conservation)</td>\n",
       "      <td>budget 2020</td>\n",
       "    </tr>\n",
       "    <tr>\n",
       "      <th>2111</th>\n",
       "      <td>2020-05-26</td>\n",
       "      <td>833 million in Budget 2020 for disability support services. There's never been such an investment in disability support services. In our first year, when we came in, we invested $211 million. Last year, in our Wellbeing Budget, we invested $348 million for disability support services. But this year, this huge investment of $833 million is historic. We know that one of the things that the disability support services sector usually does is, after every year, it actually gets a top-up. So this huge investment of $833 million should ensure that we won't actually need such a huge top-up in the future. This year, we are topping up by just over $100 million, but as I say, one of the reasons why we're investing that much is to ensure that in the future we won't have to come back and top it up</td>\n",
       "      <td>Hon JENNY SALESA</td>\n",
       "      <td>budget 2020</td>\n",
       "    </tr>\n",
       "    <tr>\n",
       "      <th>2462</th>\n",
       "      <td>2020-06-02</td>\n",
       "      <td>A further $10.2 million is being provided to improve the Defence Force's internal security capability. Budget 2020 also contains contingent funding to support the delivery of the Defence Capability Plan 2019—once again, a very forward-reaching capability plan, built on the back of the coalition agreement, whereby in this coalition Government, Labour agreed that we would review the last Government's capability plan and we'd put some oomph into it. So we are looking forward down the line to seeing this country own its very first landing platform dock, which will be a heck of an asset when it comes to dealing with humanitarian disaster and relief operations, something that we're seeing more and more of as the climate has changed. The Defence Capability Plan—I covered that. Moving on</td>\n",
       "      <td>Hon RON MARK (Minister of Defence)</td>\n",
       "      <td>budget 2020</td>\n",
       "    </tr>\n",
       "    <tr>\n",
       "      <th>3367</th>\n",
       "      <td>2020-03-11</td>\n",
       "      <td>Also within this work that we have undertaken in the Wellbeing Budget 2020, we are looking at \"Just Transition—Supporting New Zealand in the transition to a climate-resilient, sustainable, and low-emission economy\". New Zealand First has always said—and we've worked with the farmers closely and come up with a good solution, despite the members opposite—that a good proposition for New Zealand exporters is to stand up in our world market and put the provenance to our buyers around the world and to have that story to tell about happy employees working and earning a good living in their job and about an economy that understands their world commitment to carbon emissions, so that our buyers around the world can take satisfaction and take pride and actually pay a premium for New Zealand products because they understand, actually, the contribution that New Zealand is making in terms of fighting against carbon emissions</td>\n",
       "      <td>FLETCHER TABUTEAU (Deputy Leader—NZ First)</td>\n",
       "      <td>budget 2020</td>\n",
       "    </tr>\n",
       "    <tr>\n",
       "      <th>...</th>\n",
       "      <td>...</td>\n",
       "      <td>...</td>\n",
       "      <td>...</td>\n",
       "      <td>...</td>\n",
       "    </tr>\n",
       "    <tr>\n",
       "      <th>60418</th>\n",
       "      <td>2020-05-26</td>\n",
       "      <td>Yep. So $100 million, and for those jobs it was $3,100 per job. But bad news if you're in the tourism industry, $400 million was the Budget announcement in this Budget 2020, for an industry where in my electorate alone, one-third of the workers are in tourism. So a $400 million Budget announcement by the Minister of Tourism who couldn't even define, couldn't explain on the Epidemic Response Committee what tourism even was. That's 400,000 jobs they're trying to save there. So that's actually only a dollar a job. So I'm sorry, but if you're in the tourism industry they don't value your jobs very much. But, in the green jobs, the Budget announcement there was worth $100,000 per job. They actually did the detail of where those jobs were going to be, which was helpful—11,000 jobs</td>\n",
       "      <td>Hon LOUISE UPSTON</td>\n",
       "      <td>budget 2020</td>\n",
       "    </tr>\n",
       "    <tr>\n",
       "      <th>60613</th>\n",
       "      <td>2020-08-04</td>\n",
       "      <td>Yes, thank you, Madam Speaker, which brings me back to the Estimates. It is that Budget 2020—it brings me back to the point that I was making. Where is the plan—where is the plan? Where is the investment going? Because I can tell you right now, in both my portfolios—the first one being defence, and I want to acknowledge our defence forces. I want to acknowledge the work that they've done both overseas in advancing our international interests and protecting those—but especially back home. When the chips are down, it's often our New Zealand Defence Force that we call on to step up and take a leadership role. And they had to do it this time as well, because we saw very clearly that our protection at the border was not working</td>\n",
       "      <td>Hon MARK MITCHELL</td>\n",
       "      <td>budget 2020</td>\n",
       "    </tr>\n",
       "    <tr>\n",
       "      <th>60660</th>\n",
       "      <td>2020-08-04</td>\n",
       "      <td>Yes, very negative from that side of the House—very negative; too negative, in fact—which is why they're going to be sitting in Opposition for another three years. Look, we're here to talk about Budget 2020 and the investment that this Government has put into the people of New Zealand. We've gone through COVID-19, we had a strong health response led by this side of the House—led by this side of the House because we knew that the right thing to do was to go hard, to go early. We knew that we'd have to sort out the economic response as well. We are doing that, and when the member opposite, the member for Tauranga, stands there and says, \"There is no plan for jobs\", he must have been living in a cave, because there has been so much investment into jobs</td>\n",
       "      <td>T Ā MATI COFFEY</td>\n",
       "      <td>budget 2020</td>\n",
       "    </tr>\n",
       "    <tr>\n",
       "      <th>60679</th>\n",
       "      <td>2020-08-04</td>\n",
       "      <td>Yes, while we have come through COVID, while COVID did absolutely shine a massive light on existing crises and problems and challenges that we have long had, we also recognise that this Government's Budget 2020 was also a response to some of the new challenges that we have been made aware of, that we have a responsibility to confront face on, head on. So, in my summary of the appropriation bill today, I wanted to remind the House that we have been hearing from the people, from the world, from movements around the whole planet, and certainly here in Aotearoa, that we need to recognise now more than ever that actually right now is the latest possible time that we can recognise taking all action towards having a stable climate, making sure that we have a thriving environment, and making sure that everyone has what they need to live decent lives. So the Greens were pleased and worked hard with Ministers and as Ministers across Government to see some of the outcomes and some of the appr...</td>\n",
       "      <td>MARAMA DAVIDSON (Co-Leader—Green)</td>\n",
       "      <td>budget 2020</td>\n",
       "    </tr>\n",
       "    <tr>\n",
       "      <th>60766</th>\n",
       "      <td>2020-06-02</td>\n",
       "      <td>Yet how much has this Government spent of the $455 million? As at February this year, $3.2 million; in May this year, $20 million out of $455 million. So what this Government is good at doing is allocating money. But with that example I gave, the health Minister can't even spend the money. It's not all just about giving big figures; it's about having a plan. So when the health Minister came out with his re-announcement of $40 million or $50 million for Budget 2020 for the front-line mental health service, he highlighted that his front-line mental health service was currently operating from 22 sites. How many of those sites were actually operating before Budget 2019? Twenty-two. There's no net gain of new front-line mental health services. And he announced he's going to roll it out to another 100 GP sites. Well, we have 1,800 GPs in New Zealand. When that gets rolled out under Budget 2020, by July 2021, those 100 sites will be 8 percent of GPs. And when I asked the health Minister w...</td>\n",
       "      <td>MATT DOOCEY (National—Waimakariri)</td>\n",
       "      <td>budget 2020</td>\n",
       "    </tr>\n",
       "  </tbody>\n",
       "</table>\n",
       "<p>178 rows × 4 columns</p>\n",
       "</div>"
      ],
      "text/plain": [
       "             date  \\\n",
       "1090   2020-06-24   \n",
       "2031   2020-06-24   \n",
       "2111   2020-05-26   \n",
       "2462   2020-06-02   \n",
       "3367   2020-03-11   \n",
       "...           ...   \n",
       "60418  2020-05-26   \n",
       "60613  2020-08-04   \n",
       "60660  2020-08-04   \n",
       "60679  2020-08-04   \n",
       "60766  2020-06-02   \n",
       "\n",
       "                                                                                                                                                                                                                                                                                                                                                                                                                                                                                                                                                                                                                                                                                                                                                                                                                                                                                                                                                                                                                                       content  \\\n",
       "1090                                                                                                                                                                                                                                                                                                                                                            Fluffy\", as one of my colleagues says. They want to see that the Government is focused on them. They want to know the Government is focused on them and improving their quality of life. So yep, Treasury's Living Standards Framework—no disagreement around how important that is. It was created under the Rt Hon Bill English's leadership. There's no argument about that it is the Government's job to improve the quality of people's lives and their standard of living and their wellbeing. To actually, though, put it in the Public Finance Act, and then expect economic analysists at Treasury to measure it and report on it are two very, very different things   \n",
       "2031                                                                                                                                                                                                                                                                                                                                                                                       100 million is being invested through Budget 2020 and the COVID recovery package to provide people with jobs, to ensure that people who are guiding in Franz Josef—whose jobs have gone, through no fault of their own, through the redundancies that have been associated with the closure of our borders to protect our country and the drop-off in tourism—can work. They've moved from Franz to Springfield, Arthur's Pass and are working now on protecting the landscapes, protecting our tussock grasslands. It is a sign of this Government's commitment to investing in people, investing in Papatūānuku, so that we have a healthy future   \n",
       "2111                                                                                                                                                                                                               833 million in Budget 2020 for disability support services. There's never been such an investment in disability support services. In our first year, when we came in, we invested $211 million. Last year, in our Wellbeing Budget, we invested $348 million for disability support services. But this year, this huge investment of $833 million is historic. We know that one of the things that the disability support services sector usually does is, after every year, it actually gets a top-up. So this huge investment of $833 million should ensure that we won't actually need such a huge top-up in the future. This year, we are topping up by just over $100 million, but as I say, one of the reasons why we're investing that much is to ensure that in the future we won't have to come back and top it up   \n",
       "2462                                                                                                                                                                                                                    A further $10.2 million is being provided to improve the Defence Force's internal security capability. Budget 2020 also contains contingent funding to support the delivery of the Defence Capability Plan 2019—once again, a very forward-reaching capability plan, built on the back of the coalition agreement, whereby in this coalition Government, Labour agreed that we would review the last Government's capability plan and we'd put some oomph into it. So we are looking forward down the line to seeing this country own its very first landing platform dock, which will be a heck of an asset when it comes to dealing with humanitarian disaster and relief operations, something that we're seeing more and more of as the climate has changed. The Defence Capability Plan—I covered that. Moving on   \n",
       "3367                                                                             Also within this work that we have undertaken in the Wellbeing Budget 2020, we are looking at \"Just Transition—Supporting New Zealand in the transition to a climate-resilient, sustainable, and low-emission economy\". New Zealand First has always said—and we've worked with the farmers closely and come up with a good solution, despite the members opposite—that a good proposition for New Zealand exporters is to stand up in our world market and put the provenance to our buyers around the world and to have that story to tell about happy employees working and earning a good living in their job and about an economy that understands their world commitment to carbon emissions, so that our buyers around the world can take satisfaction and take pride and actually pay a premium for New Zealand products because they understand, actually, the contribution that New Zealand is making in terms of fighting against carbon emissions   \n",
       "...                                                                                                                                                                                                                                                                                                                                                                                                                                                                                                                                                                                                                                                                                                                                                                                                                                                                                                                                                                                                                                        ...   \n",
       "60418                                                                                                                                                                                                                        Yep. So $100 million, and for those jobs it was $3,100 per job. But bad news if you're in the tourism industry, $400 million was the Budget announcement in this Budget 2020, for an industry where in my electorate alone, one-third of the workers are in tourism. So a $400 million Budget announcement by the Minister of Tourism who couldn't even define, couldn't explain on the Epidemic Response Committee what tourism even was. That's 400,000 jobs they're trying to save there. So that's actually only a dollar a job. So I'm sorry, but if you're in the tourism industry they don't value your jobs very much. But, in the green jobs, the Budget announcement there was worth $100,000 per job. They actually did the detail of where those jobs were going to be, which was helpful—11,000 jobs   \n",
       "60613                                                                                                                                                                                                                                                                             Yes, thank you, Madam Speaker, which brings me back to the Estimates. It is that Budget 2020—it brings me back to the point that I was making. Where is the plan—where is the plan? Where is the investment going? Because I can tell you right now, in both my portfolios—the first one being defence, and I want to acknowledge our defence forces. I want to acknowledge the work that they've done both overseas in advancing our international interests and protecting those—but especially back home. When the chips are down, it's often our New Zealand Defence Force that we call on to step up and take a leadership role. And they had to do it this time as well, because we saw very clearly that our protection at the border was not working   \n",
       "60660                                                                                                                                                                                                                                                  Yes, very negative from that side of the House—very negative; too negative, in fact—which is why they're going to be sitting in Opposition for another three years. Look, we're here to talk about Budget 2020 and the investment that this Government has put into the people of New Zealand. We've gone through COVID-19, we had a strong health response led by this side of the House—led by this side of the House because we knew that the right thing to do was to go hard, to go early. We knew that we'd have to sort out the economic response as well. We are doing that, and when the member opposite, the member for Tauranga, stands there and says, \"There is no plan for jobs\", he must have been living in a cave, because there has been so much investment into jobs   \n",
       "60679  Yes, while we have come through COVID, while COVID did absolutely shine a massive light on existing crises and problems and challenges that we have long had, we also recognise that this Government's Budget 2020 was also a response to some of the new challenges that we have been made aware of, that we have a responsibility to confront face on, head on. So, in my summary of the appropriation bill today, I wanted to remind the House that we have been hearing from the people, from the world, from movements around the whole planet, and certainly here in Aotearoa, that we need to recognise now more than ever that actually right now is the latest possible time that we can recognise taking all action towards having a stable climate, making sure that we have a thriving environment, and making sure that everyone has what they need to live decent lives. So the Greens were pleased and worked hard with Ministers and as Ministers across Government to see some of the outcomes and some of the appr...   \n",
       "60766  Yet how much has this Government spent of the $455 million? As at February this year, $3.2 million; in May this year, $20 million out of $455 million. So what this Government is good at doing is allocating money. But with that example I gave, the health Minister can't even spend the money. It's not all just about giving big figures; it's about having a plan. So when the health Minister came out with his re-announcement of $40 million or $50 million for Budget 2020 for the front-line mental health service, he highlighted that his front-line mental health service was currently operating from 22 sites. How many of those sites were actually operating before Budget 2019? Twenty-two. There's no net gain of new front-line mental health services. And he announced he's going to roll it out to another 100 GP sites. Well, we have 1,800 GPs in New Zealand. When that gets rolled out under Budget 2020, by July 2021, those 100 sites will be 8 percent of GPs. And when I asked the health Minister w...   \n",
       "\n",
       "                                           speaker              matching_title  \n",
       "1090                            Hon LOUISE  UPSTON  living standards framework  \n",
       "2031   Hon EUGENIE SAGE (Minister of Conservation)                 budget 2020  \n",
       "2111                              Hon JENNY SALESA                 budget 2020  \n",
       "2462            Hon RON MARK (Minister of Defence)                 budget 2020  \n",
       "3367    FLETCHER TABUTEAU (Deputy Leader—NZ First)                 budget 2020  \n",
       "...                                            ...                         ...  \n",
       "60418                            Hon LOUISE UPSTON                 budget 2020  \n",
       "60613                            Hon MARK MITCHELL                 budget 2020  \n",
       "60660                              T Ā MATI COFFEY                 budget 2020  \n",
       "60679            MARAMA DAVIDSON (Co-Leader—Green)                 budget 2020  \n",
       "60766           MATT DOOCEY (National—Waimakariri)                 budget 2020  \n",
       "\n",
       "[178 rows x 4 columns]"
      ]
     },
     "execution_count": 7,
     "metadata": {},
     "output_type": "execute_result"
    }
   ],
   "source": [
    "# Extract matching policy titles\n",
    "matched_rows['matching_title'] = matched_rows['content'].str.lower().str.extract(f\"({pattern})\")\n",
    "# Reset the index of matched_rows\n",
    "matched_rows"
   ]
  },
  {
   "cell_type": "code",
   "execution_count": 3,
   "metadata": {},
   "outputs": [
    {
     "name": "stdout",
     "output_type": "stream",
     "text": [
      "<class 'pandas.core.frame.DataFrame'>\n",
      "RangeIndex: 178 entries, 0 to 177\n",
      "Data columns (total 5 columns):\n",
      " #   Column          Non-Null Count  Dtype \n",
      "---  ------          --------------  ----- \n",
      " 0   Unnamed: 0      178 non-null    int64 \n",
      " 1   date            178 non-null    object\n",
      " 2   content         178 non-null    object\n",
      " 3   speaker         178 non-null    object\n",
      " 4   matching_title  178 non-null    object\n",
      "dtypes: int64(1), object(4)\n",
      "memory usage: 7.1+ KB\n"
     ]
    }
   ],
   "source": [
    "matched_rows.info()"
   ]
  },
  {
   "cell_type": "code",
   "execution_count": 13,
   "metadata": {},
   "outputs": [],
   "source": [
    "matched_rows.to_csv('../data/Overton/covid_03_01/matched_policy_titles_with_parliament.csv')"
   ]
  },
  {
   "cell_type": "code",
   "execution_count": 2,
   "metadata": {},
   "outputs": [],
   "source": [
    "matched_rows = pd.read_csv('../data/Overton/covid_03_01/matched_policy_titles_with_parliament.csv')"
   ]
  },
  {
   "cell_type": "code",
   "execution_count": 4,
   "metadata": {},
   "outputs": [
    {
     "name": "stderr",
     "output_type": "stream",
     "text": [
      "[nltk_data] Downloading package punkt to /home/jupyter/nltk_data...\n",
      "[nltk_data]   Unzipping tokenizers/punkt.zip.\n"
     ]
    }
   ],
   "source": [
    "import nltk\n",
    "nltk.download('punkt')\n",
    "\n",
    "def extract_context(title, content):\n",
    "    sentences = nltk.sent_tokenize(content)\n",
    "    index = [i for i, sentence in enumerate(sentences) if title in sentence]\n",
    "    if index:\n",
    "        index = index[0]\n",
    "        start = max(0, index - 1)\n",
    "        end = min(len(sentences), index + 2)\n",
    "        return ' '.join(sentences[start:end])\n",
    "    else:\n",
    "        return ''"
   ]
  },
  {
   "cell_type": "code",
   "execution_count": 10,
   "metadata": {},
   "outputs": [],
   "source": [
    "matched_rows['content'] = matched_rows['content'].str.lower()"
   ]
  },
  {
   "cell_type": "code",
   "execution_count": 11,
   "metadata": {},
   "outputs": [],
   "source": [
    "matched_rows['matching_sentences'] = matched_rows.apply(lambda row: extract_context(row['matching_title'], row['content']), axis=1)"
   ]
  },
  {
   "cell_type": "code",
   "execution_count": 12,
   "metadata": {},
   "outputs": [
    {
     "data": {
      "text/html": [
       "<div>\n",
       "<style scoped>\n",
       "    .dataframe tbody tr th:only-of-type {\n",
       "        vertical-align: middle;\n",
       "    }\n",
       "\n",
       "    .dataframe tbody tr th {\n",
       "        vertical-align: top;\n",
       "    }\n",
       "\n",
       "    .dataframe thead th {\n",
       "        text-align: right;\n",
       "    }\n",
       "</style>\n",
       "<table border=\"1\" class=\"dataframe\">\n",
       "  <thead>\n",
       "    <tr style=\"text-align: right;\">\n",
       "      <th></th>\n",
       "      <th>Unnamed: 0</th>\n",
       "      <th>date</th>\n",
       "      <th>content</th>\n",
       "      <th>speaker</th>\n",
       "      <th>matching_title</th>\n",
       "      <th>matching_sentences</th>\n",
       "    </tr>\n",
       "  </thead>\n",
       "  <tbody>\n",
       "    <tr>\n",
       "      <th>0</th>\n",
       "      <td>1090</td>\n",
       "      <td>2020-06-24</td>\n",
       "      <td>fluffy\", as one of my colleagues says. they want to see that the government is focused on them. they want to know the government is focused on them and improving their quality of life. so yep, treasury's living standards framework—no disagreement around how important that is. it was created under the rt hon bill english's leadership. there's no argument about that it is the government's job to improve the quality of people's lives and their standard of living and their wellbeing. to actually, though, put it in the public finance act, and then expect economic analysists at treasury to measure it and report on it are two very, very different things</td>\n",
       "      <td>Hon LOUISE  UPSTON</td>\n",
       "      <td>living standards framework</td>\n",
       "      <td>they want to know the government is focused on them and improving their quality of life. so yep, treasury's living standards framework—no disagreement around how important that is. it was created under the rt hon bill english's leadership.</td>\n",
       "    </tr>\n",
       "    <tr>\n",
       "      <th>1</th>\n",
       "      <td>2031</td>\n",
       "      <td>2020-06-24</td>\n",
       "      <td>100 million is being invested through budget 2020 and the covid recovery package to provide people with jobs, to ensure that people who are guiding in franz josef—whose jobs have gone, through no fault of their own, through the redundancies that have been associated with the closure of our borders to protect our country and the drop-off in tourism—can work. they've moved from franz to springfield, arthur's pass and are working now on protecting the landscapes, protecting our tussock grasslands. it is a sign of this government's commitment to investing in people, investing in papatūānuku, so that we have a healthy future</td>\n",
       "      <td>Hon EUGENIE SAGE (Minister of Conservation)</td>\n",
       "      <td>budget 2020</td>\n",
       "      <td>100 million is being invested through budget 2020 and the covid recovery package to provide people with jobs, to ensure that people who are guiding in franz josef—whose jobs have gone, through no fault of their own, through the redundancies that have been associated with the closure of our borders to protect our country and the drop-off in tourism—can work. they've moved from franz to springfield, arthur's pass and are working now on protecting the landscapes, protecting our tussock grasslands.</td>\n",
       "    </tr>\n",
       "    <tr>\n",
       "      <th>2</th>\n",
       "      <td>2111</td>\n",
       "      <td>2020-05-26</td>\n",
       "      <td>833 million in budget 2020 for disability support services. there's never been such an investment in disability support services. in our first year, when we came in, we invested $211 million. last year, in our wellbeing budget, we invested $348 million for disability support services. but this year, this huge investment of $833 million is historic. we know that one of the things that the disability support services sector usually does is, after every year, it actually gets a top-up. so this huge investment of $833 million should ensure that we won't actually need such a huge top-up in the future. this year, we are topping up by just over $100 million, but as i say, one of the reasons why we're investing that much is to ensure that in the future we won't have to come back and top it up</td>\n",
       "      <td>Hon JENNY SALESA</td>\n",
       "      <td>budget 2020</td>\n",
       "      <td>833 million in budget 2020 for disability support services. there's never been such an investment in disability support services.</td>\n",
       "    </tr>\n",
       "    <tr>\n",
       "      <th>3</th>\n",
       "      <td>2462</td>\n",
       "      <td>2020-06-02</td>\n",
       "      <td>a further $10.2 million is being provided to improve the defence force's internal security capability. budget 2020 also contains contingent funding to support the delivery of the defence capability plan 2019—once again, a very forward-reaching capability plan, built on the back of the coalition agreement, whereby in this coalition government, labour agreed that we would review the last government's capability plan and we'd put some oomph into it. so we are looking forward down the line to seeing this country own its very first landing platform dock, which will be a heck of an asset when it comes to dealing with humanitarian disaster and relief operations, something that we're seeing more and more of as the climate has changed. the defence capability plan—i covered that. moving on</td>\n",
       "      <td>Hon RON MARK (Minister of Defence)</td>\n",
       "      <td>budget 2020</td>\n",
       "      <td>a further $10.2 million is being provided to improve the defence force's internal security capability. budget 2020 also contains contingent funding to support the delivery of the defence capability plan 2019—once again, a very forward-reaching capability plan, built on the back of the coalition agreement, whereby in this coalition government, labour agreed that we would review the last government's capability plan and we'd put some oomph into it. so we are looking forward down the line to seeing this country own its very first landing platform dock, which will be a heck of an asset when it comes to dealing with humanitarian disaster and relief operations, something that we're seeing more and more of as the climate has changed.</td>\n",
       "    </tr>\n",
       "    <tr>\n",
       "      <th>4</th>\n",
       "      <td>3367</td>\n",
       "      <td>2020-03-11</td>\n",
       "      <td>also within this work that we have undertaken in the wellbeing budget 2020, we are looking at \"just transition—supporting new zealand in the transition to a climate-resilient, sustainable, and low-emission economy\". new zealand first has always said—and we've worked with the farmers closely and come up with a good solution, despite the members opposite—that a good proposition for new zealand exporters is to stand up in our world market and put the provenance to our buyers around the world and to have that story to tell about happy employees working and earning a good living in their job and about an economy that understands their world commitment to carbon emissions, so that our buyers around the world can take satisfaction and take pride and actually pay a premium for new zealand products because they understand, actually, the contribution that new zealand is making in terms of fighting against carbon emissions</td>\n",
       "      <td>FLETCHER TABUTEAU (Deputy Leader—NZ First)</td>\n",
       "      <td>budget 2020</td>\n",
       "      <td>also within this work that we have undertaken in the wellbeing budget 2020, we are looking at \"just transition—supporting new zealand in the transition to a climate-resilient, sustainable, and low-emission economy\". new zealand first has always said—and we've worked with the farmers closely and come up with a good solution, despite the members opposite—that a good proposition for new zealand exporters is to stand up in our world market and put the provenance to our buyers around the world and to have that story to tell about happy employees working and earning a good living in their job and about an economy that understands their world commitment to carbon emissions, so that our buyers around the world can take satisfaction and take pride and actually pay a premium for new zealand products because they understand, actually, the contribution that new zealand is making in terms of fighting against carbon emissions</td>\n",
       "    </tr>\n",
       "  </tbody>\n",
       "</table>\n",
       "</div>"
      ],
      "text/plain": [
       "   Unnamed: 0        date  \\\n",
       "0        1090  2020-06-24   \n",
       "1        2031  2020-06-24   \n",
       "2        2111  2020-05-26   \n",
       "3        2462  2020-06-02   \n",
       "4        3367  2020-03-11   \n",
       "\n",
       "                                                                                                                                                                                                                                                                                                                                                                                                                                                                                                                                                                                                                                                                                                                                                                                                                                                                                                                                                         content  \\\n",
       "0                                                                                                                                                                                                                                                                                 fluffy\", as one of my colleagues says. they want to see that the government is focused on them. they want to know the government is focused on them and improving their quality of life. so yep, treasury's living standards framework—no disagreement around how important that is. it was created under the rt hon bill english's leadership. there's no argument about that it is the government's job to improve the quality of people's lives and their standard of living and their wellbeing. to actually, though, put it in the public finance act, and then expect economic analysists at treasury to measure it and report on it are two very, very different things   \n",
       "1                                                                                                                                                                                                                                                                                                            100 million is being invested through budget 2020 and the covid recovery package to provide people with jobs, to ensure that people who are guiding in franz josef—whose jobs have gone, through no fault of their own, through the redundancies that have been associated with the closure of our borders to protect our country and the drop-off in tourism—can work. they've moved from franz to springfield, arthur's pass and are working now on protecting the landscapes, protecting our tussock grasslands. it is a sign of this government's commitment to investing in people, investing in papatūānuku, so that we have a healthy future   \n",
       "2                                                                                                                                    833 million in budget 2020 for disability support services. there's never been such an investment in disability support services. in our first year, when we came in, we invested $211 million. last year, in our wellbeing budget, we invested $348 million for disability support services. but this year, this huge investment of $833 million is historic. we know that one of the things that the disability support services sector usually does is, after every year, it actually gets a top-up. so this huge investment of $833 million should ensure that we won't actually need such a huge top-up in the future. this year, we are topping up by just over $100 million, but as i say, one of the reasons why we're investing that much is to ensure that in the future we won't have to come back and top it up   \n",
       "3                                                                                                                                         a further $10.2 million is being provided to improve the defence force's internal security capability. budget 2020 also contains contingent funding to support the delivery of the defence capability plan 2019—once again, a very forward-reaching capability plan, built on the back of the coalition agreement, whereby in this coalition government, labour agreed that we would review the last government's capability plan and we'd put some oomph into it. so we are looking forward down the line to seeing this country own its very first landing platform dock, which will be a heck of an asset when it comes to dealing with humanitarian disaster and relief operations, something that we're seeing more and more of as the climate has changed. the defence capability plan—i covered that. moving on   \n",
       "4  also within this work that we have undertaken in the wellbeing budget 2020, we are looking at \"just transition—supporting new zealand in the transition to a climate-resilient, sustainable, and low-emission economy\". new zealand first has always said—and we've worked with the farmers closely and come up with a good solution, despite the members opposite—that a good proposition for new zealand exporters is to stand up in our world market and put the provenance to our buyers around the world and to have that story to tell about happy employees working and earning a good living in their job and about an economy that understands their world commitment to carbon emissions, so that our buyers around the world can take satisfaction and take pride and actually pay a premium for new zealand products because they understand, actually, the contribution that new zealand is making in terms of fighting against carbon emissions   \n",
       "\n",
       "                                       speaker              matching_title  \\\n",
       "0                           Hon LOUISE  UPSTON  living standards framework   \n",
       "1  Hon EUGENIE SAGE (Minister of Conservation)                 budget 2020   \n",
       "2                             Hon JENNY SALESA                 budget 2020   \n",
       "3           Hon RON MARK (Minister of Defence)                 budget 2020   \n",
       "4   FLETCHER TABUTEAU (Deputy Leader—NZ First)                 budget 2020   \n",
       "\n",
       "                                                                                                                                                                                                                                                                                                                                                                                                                                                                                                                                                                                                                                                                                                                                                                                                                                                                                                                                              matching_sentences  \n",
       "0                                                                                                                                                                                                                                                                                                                                                                                                                                                                                                                                                                                                                                                                                                                they want to know the government is focused on them and improving their quality of life. so yep, treasury's living standards framework—no disagreement around how important that is. it was created under the rt hon bill english's leadership.  \n",
       "1                                                                                                                                                                                                                                                                                                                                                                                                                                            100 million is being invested through budget 2020 and the covid recovery package to provide people with jobs, to ensure that people who are guiding in franz josef—whose jobs have gone, through no fault of their own, through the redundancies that have been associated with the closure of our borders to protect our country and the drop-off in tourism—can work. they've moved from franz to springfield, arthur's pass and are working now on protecting the landscapes, protecting our tussock grasslands.  \n",
       "2                                                                                                                                                                                                                                                                                                                                                                                                                                                                                                                                                                                                                                                                                                                                                                                                                              833 million in budget 2020 for disability support services. there's never been such an investment in disability support services.  \n",
       "3                                                                                                                                                                                               a further $10.2 million is being provided to improve the defence force's internal security capability. budget 2020 also contains contingent funding to support the delivery of the defence capability plan 2019—once again, a very forward-reaching capability plan, built on the back of the coalition agreement, whereby in this coalition government, labour agreed that we would review the last government's capability plan and we'd put some oomph into it. so we are looking forward down the line to seeing this country own its very first landing platform dock, which will be a heck of an asset when it comes to dealing with humanitarian disaster and relief operations, something that we're seeing more and more of as the climate has changed.  \n",
       "4  also within this work that we have undertaken in the wellbeing budget 2020, we are looking at \"just transition—supporting new zealand in the transition to a climate-resilient, sustainable, and low-emission economy\". new zealand first has always said—and we've worked with the farmers closely and come up with a good solution, despite the members opposite—that a good proposition for new zealand exporters is to stand up in our world market and put the provenance to our buyers around the world and to have that story to tell about happy employees working and earning a good living in their job and about an economy that understands their world commitment to carbon emissions, so that our buyers around the world can take satisfaction and take pride and actually pay a premium for new zealand products because they understand, actually, the contribution that new zealand is making in terms of fighting against carbon emissions  "
      ]
     },
     "execution_count": 12,
     "metadata": {},
     "output_type": "execute_result"
    }
   ],
   "source": [
    "matched_rows.head()"
   ]
  },
  {
   "cell_type": "code",
   "execution_count": 25,
   "metadata": {},
   "outputs": [
    {
     "name": "stdout",
     "output_type": "stream",
     "text": [
      "['living standards framework' 'budget 2020' 'he waka eke noa'\n",
      " 'vote business, science and innovation'\n",
      " 'four steps closer to sustainable tourism'\n",
      " 'youth justice indicators summary report' 'response to he pou a rangi'\n",
      " 'māori electoral option' 'strategic tourism assets protection'\n",
      " 'whakamaua' 'action for healthy waterways'\n",
      " 'digital technologies industry transformation plan'\n",
      " \"new zealand's productivity performance\"]\n"
     ]
    }
   ],
   "source": [
    "unique_matching_titles = matched_rows['matching_title'].unique()\n",
    "print(unique_matching_titles)"
   ]
  },
  {
   "cell_type": "code",
   "execution_count": 26,
   "metadata": {},
   "outputs": [],
   "source": [
    "# create a dictionary with matching_title as key and original title as value\n",
    "title_dict = {\n",
    "    \"living standards framework\": \"He Kāhui Waiora: Living Standards Framework and He Ara Waiora COVID-19: Impacts on Wellbeing (DP 20/02)\",\n",
    "    \"budget 2020\": \"Key Documents - Budget 2020 Information Release\",\n",
    "    \"he waka eke noa\": \"COVID-19 Economic Package at a Glance: He Waka Eke Noa: We Are All Working Together - April 2020\",\n",
    "    \"vote business, science and innovation\": \"Vote Business, Science and Innovation - Economic Development and Infrastructure Sector - Estimates 2021/22\",\n",
    "    \"four steps closer to sustainable tourism\": \"Not 100% – but four steps closer to sustainable tourism\",\n",
    "    \"youth justice indicators summary report\": \"Youth Justice Indicators Summary Report December 2020\",\n",
    "    \"response to he pou a rangi\": \"The Government’s response to He Pou a Rangi – Climate Change Commission’s recommendations\",\n",
    "    \"māori electoral option\": \"Regulatory Impact Statement: Timing and frequency of the Māori Electoral Option\",\n",
    "    \"strategic tourism assets protection\": \"Strategic Tourism Assets Protection Programme : Six-Month Update\",\n",
    "    \"whakamaua\": \"Whakamaua: Māori Health Action Plan 2020-2025\",\n",
    "    \"action for healthy waterways\": \"Action for healthy waterways: Section 32 evaluation report\",\n",
    "    \"digital technologies industry transformation plan\": \"Releasing the draft Digital Technologies Industry Transformation Plan\",\n",
    "    \"new zealand's productivity performance\": \"New Zealand's Productivity Performance: Taking a Broader View (AN 22/05)\",\n",
    "}"
   ]
  },
  {
   "cell_type": "code",
   "execution_count": 27,
   "metadata": {},
   "outputs": [],
   "source": [
    "# create a new column with original titles based on matching_title\n",
    "matched_rows['original_policy_title'] = matched_rows['matching_title'].map(title_dict)"
   ]
  },
  {
   "cell_type": "code",
   "execution_count": 51,
   "metadata": {},
   "outputs": [
    {
     "data": {
      "text/plain": [
       "163"
      ]
     },
     "execution_count": 51,
     "metadata": {},
     "output_type": "execute_result"
    }
   ],
   "source": [
    "# Load 163 overton policy titles from file\n",
    "with open('../data/Overton/covid_03_01/overton_policy_titles.txt') as f:\n",
    "    overton_policy_titles = f.read().splitlines()\n",
    "len(overton_policy_titles)"
   ]
  },
  {
   "cell_type": "code",
   "execution_count": 60,
   "metadata": {},
   "outputs": [
    {
     "data": {
      "text/html": [
       "<div>\n",
       "<style scoped>\n",
       "    .dataframe tbody tr th:only-of-type {\n",
       "        vertical-align: middle;\n",
       "    }\n",
       "\n",
       "    .dataframe tbody tr th {\n",
       "        vertical-align: top;\n",
       "    }\n",
       "\n",
       "    .dataframe thead th {\n",
       "        text-align: right;\n",
       "    }\n",
       "</style>\n",
       "<table border=\"1\" class=\"dataframe\">\n",
       "  <thead>\n",
       "    <tr style=\"text-align: right;\">\n",
       "      <th></th>\n",
       "      <th>Unnamed: 0</th>\n",
       "      <th>date</th>\n",
       "      <th>content</th>\n",
       "      <th>speaker</th>\n",
       "      <th>matching_title</th>\n",
       "      <th>matching_sentences</th>\n",
       "      <th>original_policy_title</th>\n",
       "    </tr>\n",
       "  </thead>\n",
       "  <tbody>\n",
       "    <tr>\n",
       "      <th>0</th>\n",
       "      <td>1090</td>\n",
       "      <td>2020-06-24</td>\n",
       "      <td>fluffy\", as one of my colleagues says. they want to see that the government is focused on them. they want to know the government is focused on them and improving their quality of life. so yep, treasury's living standards framework—no disagreement around how important that is. it was created under the rt hon bill english's leadership. there's no argument about that it is the government's job to improve the quality of people's lives and their standard of living and their wellbeing. to actually, though, put it in the public finance act, and then expect economic analysists at treasury to measure it and report on it are two very, very different things</td>\n",
       "      <td>Hon LOUISE  UPSTON</td>\n",
       "      <td>living standards framework</td>\n",
       "      <td>they want to know the government is focused on them and improving their quality of life. so yep, treasury's living standards framework—no disagreement around how important that is. it was created under the rt hon bill english's leadership.</td>\n",
       "      <td>He Kāhui Waiora: Living Standards Framework and He Ara Waiora COVID-19: Impacts on Wellbeing (DP 20/02)</td>\n",
       "    </tr>\n",
       "    <tr>\n",
       "      <th>1</th>\n",
       "      <td>2031</td>\n",
       "      <td>2020-06-24</td>\n",
       "      <td>100 million is being invested through budget 2020 and the covid recovery package to provide people with jobs, to ensure that people who are guiding in franz josef—whose jobs have gone, through no fault of their own, through the redundancies that have been associated with the closure of our borders to protect our country and the drop-off in tourism—can work. they've moved from franz to springfield, arthur's pass and are working now on protecting the landscapes, protecting our tussock grasslands. it is a sign of this government's commitment to investing in people, investing in papatūānuku, so that we have a healthy future</td>\n",
       "      <td>Hon EUGENIE SAGE (Minister of Conservation)</td>\n",
       "      <td>budget 2020</td>\n",
       "      <td>100 million is being invested through budget 2020 and the covid recovery package to provide people with jobs, to ensure that people who are guiding in franz josef—whose jobs have gone, through no fault of their own, through the redundancies that have been associated with the closure of our borders to protect our country and the drop-off in tourism—can work. they've moved from franz to springfield, arthur's pass and are working now on protecting the landscapes, protecting our tussock grasslands.</td>\n",
       "      <td>Key Documents - Budget 2020 Information Release</td>\n",
       "    </tr>\n",
       "    <tr>\n",
       "      <th>2</th>\n",
       "      <td>2111</td>\n",
       "      <td>2020-05-26</td>\n",
       "      <td>833 million in budget 2020 for disability support services. there's never been such an investment in disability support services. in our first year, when we came in, we invested $211 million. last year, in our wellbeing budget, we invested $348 million for disability support services. but this year, this huge investment of $833 million is historic. we know that one of the things that the disability support services sector usually does is, after every year, it actually gets a top-up. so this huge investment of $833 million should ensure that we won't actually need such a huge top-up in the future. this year, we are topping up by just over $100 million, but as i say, one of the reasons why we're investing that much is to ensure that in the future we won't have to come back and top it up</td>\n",
       "      <td>Hon JENNY SALESA</td>\n",
       "      <td>budget 2020</td>\n",
       "      <td>833 million in budget 2020 for disability support services. there's never been such an investment in disability support services.</td>\n",
       "      <td>Key Documents - Budget 2020 Information Release</td>\n",
       "    </tr>\n",
       "    <tr>\n",
       "      <th>3</th>\n",
       "      <td>2462</td>\n",
       "      <td>2020-06-02</td>\n",
       "      <td>a further $10.2 million is being provided to improve the defence force's internal security capability. budget 2020 also contains contingent funding to support the delivery of the defence capability plan 2019—once again, a very forward-reaching capability plan, built on the back of the coalition agreement, whereby in this coalition government, labour agreed that we would review the last government's capability plan and we'd put some oomph into it. so we are looking forward down the line to seeing this country own its very first landing platform dock, which will be a heck of an asset when it comes to dealing with humanitarian disaster and relief operations, something that we're seeing more and more of as the climate has changed. the defence capability plan—i covered that. moving on</td>\n",
       "      <td>Hon RON MARK (Minister of Defence)</td>\n",
       "      <td>budget 2020</td>\n",
       "      <td>a further $10.2 million is being provided to improve the defence force's internal security capability. budget 2020 also contains contingent funding to support the delivery of the defence capability plan 2019—once again, a very forward-reaching capability plan, built on the back of the coalition agreement, whereby in this coalition government, labour agreed that we would review the last government's capability plan and we'd put some oomph into it. so we are looking forward down the line to seeing this country own its very first landing platform dock, which will be a heck of an asset when it comes to dealing with humanitarian disaster and relief operations, something that we're seeing more and more of as the climate has changed.</td>\n",
       "      <td>Key Documents - Budget 2020 Information Release</td>\n",
       "    </tr>\n",
       "    <tr>\n",
       "      <th>4</th>\n",
       "      <td>3367</td>\n",
       "      <td>2020-03-11</td>\n",
       "      <td>also within this work that we have undertaken in the wellbeing budget 2020, we are looking at \"just transition—supporting new zealand in the transition to a climate-resilient, sustainable, and low-emission economy\". new zealand first has always said—and we've worked with the farmers closely and come up with a good solution, despite the members opposite—that a good proposition for new zealand exporters is to stand up in our world market and put the provenance to our buyers around the world and to have that story to tell about happy employees working and earning a good living in their job and about an economy that understands their world commitment to carbon emissions, so that our buyers around the world can take satisfaction and take pride and actually pay a premium for new zealand products because they understand, actually, the contribution that new zealand is making in terms of fighting against carbon emissions</td>\n",
       "      <td>FLETCHER TABUTEAU (Deputy Leader—NZ First)</td>\n",
       "      <td>budget 2020</td>\n",
       "      <td>also within this work that we have undertaken in the wellbeing budget 2020, we are looking at \"just transition—supporting new zealand in the transition to a climate-resilient, sustainable, and low-emission economy\". new zealand first has always said—and we've worked with the farmers closely and come up with a good solution, despite the members opposite—that a good proposition for new zealand exporters is to stand up in our world market and put the provenance to our buyers around the world and to have that story to tell about happy employees working and earning a good living in their job and about an economy that understands their world commitment to carbon emissions, so that our buyers around the world can take satisfaction and take pride and actually pay a premium for new zealand products because they understand, actually, the contribution that new zealand is making in terms of fighting against carbon emissions</td>\n",
       "      <td>Key Documents - Budget 2020 Information Release</td>\n",
       "    </tr>\n",
       "  </tbody>\n",
       "</table>\n",
       "</div>"
      ],
      "text/plain": [
       "   Unnamed: 0        date  \\\n",
       "0        1090  2020-06-24   \n",
       "1        2031  2020-06-24   \n",
       "2        2111  2020-05-26   \n",
       "3        2462  2020-06-02   \n",
       "4        3367  2020-03-11   \n",
       "\n",
       "                                                                                                                                                                                                                                                                                                                                                                                                                                                                                                                                                                                                                                                                                                                                                                                                                                                                                                                                                         content  \\\n",
       "0                                                                                                                                                                                                                                                                                 fluffy\", as one of my colleagues says. they want to see that the government is focused on them. they want to know the government is focused on them and improving their quality of life. so yep, treasury's living standards framework—no disagreement around how important that is. it was created under the rt hon bill english's leadership. there's no argument about that it is the government's job to improve the quality of people's lives and their standard of living and their wellbeing. to actually, though, put it in the public finance act, and then expect economic analysists at treasury to measure it and report on it are two very, very different things   \n",
       "1                                                                                                                                                                                                                                                                                                            100 million is being invested through budget 2020 and the covid recovery package to provide people with jobs, to ensure that people who are guiding in franz josef—whose jobs have gone, through no fault of their own, through the redundancies that have been associated with the closure of our borders to protect our country and the drop-off in tourism—can work. they've moved from franz to springfield, arthur's pass and are working now on protecting the landscapes, protecting our tussock grasslands. it is a sign of this government's commitment to investing in people, investing in papatūānuku, so that we have a healthy future   \n",
       "2                                                                                                                                    833 million in budget 2020 for disability support services. there's never been such an investment in disability support services. in our first year, when we came in, we invested $211 million. last year, in our wellbeing budget, we invested $348 million for disability support services. but this year, this huge investment of $833 million is historic. we know that one of the things that the disability support services sector usually does is, after every year, it actually gets a top-up. so this huge investment of $833 million should ensure that we won't actually need such a huge top-up in the future. this year, we are topping up by just over $100 million, but as i say, one of the reasons why we're investing that much is to ensure that in the future we won't have to come back and top it up   \n",
       "3                                                                                                                                         a further $10.2 million is being provided to improve the defence force's internal security capability. budget 2020 also contains contingent funding to support the delivery of the defence capability plan 2019—once again, a very forward-reaching capability plan, built on the back of the coalition agreement, whereby in this coalition government, labour agreed that we would review the last government's capability plan and we'd put some oomph into it. so we are looking forward down the line to seeing this country own its very first landing platform dock, which will be a heck of an asset when it comes to dealing with humanitarian disaster and relief operations, something that we're seeing more and more of as the climate has changed. the defence capability plan—i covered that. moving on   \n",
       "4  also within this work that we have undertaken in the wellbeing budget 2020, we are looking at \"just transition—supporting new zealand in the transition to a climate-resilient, sustainable, and low-emission economy\". new zealand first has always said—and we've worked with the farmers closely and come up with a good solution, despite the members opposite—that a good proposition for new zealand exporters is to stand up in our world market and put the provenance to our buyers around the world and to have that story to tell about happy employees working and earning a good living in their job and about an economy that understands their world commitment to carbon emissions, so that our buyers around the world can take satisfaction and take pride and actually pay a premium for new zealand products because they understand, actually, the contribution that new zealand is making in terms of fighting against carbon emissions   \n",
       "\n",
       "                                       speaker              matching_title  \\\n",
       "0                           Hon LOUISE  UPSTON  living standards framework   \n",
       "1  Hon EUGENIE SAGE (Minister of Conservation)                 budget 2020   \n",
       "2                             Hon JENNY SALESA                 budget 2020   \n",
       "3           Hon RON MARK (Minister of Defence)                 budget 2020   \n",
       "4   FLETCHER TABUTEAU (Deputy Leader—NZ First)                 budget 2020   \n",
       "\n",
       "                                                                                                                                                                                                                                                                                                                                                                                                                                                                                                                                                                                                                                                                                                                                                                                                                                                                                                                                              matching_sentences  \\\n",
       "0                                                                                                                                                                                                                                                                                                                                                                                                                                                                                                                                                                                                                                                                                                                they want to know the government is focused on them and improving their quality of life. so yep, treasury's living standards framework—no disagreement around how important that is. it was created under the rt hon bill english's leadership.   \n",
       "1                                                                                                                                                                                                                                                                                                                                                                                                                                            100 million is being invested through budget 2020 and the covid recovery package to provide people with jobs, to ensure that people who are guiding in franz josef—whose jobs have gone, through no fault of their own, through the redundancies that have been associated with the closure of our borders to protect our country and the drop-off in tourism—can work. they've moved from franz to springfield, arthur's pass and are working now on protecting the landscapes, protecting our tussock grasslands.   \n",
       "2                                                                                                                                                                                                                                                                                                                                                                                                                                                                                                                                                                                                                                                                                                                                                                                                                              833 million in budget 2020 for disability support services. there's never been such an investment in disability support services.   \n",
       "3                                                                                                                                                                                               a further $10.2 million is being provided to improve the defence force's internal security capability. budget 2020 also contains contingent funding to support the delivery of the defence capability plan 2019—once again, a very forward-reaching capability plan, built on the back of the coalition agreement, whereby in this coalition government, labour agreed that we would review the last government's capability plan and we'd put some oomph into it. so we are looking forward down the line to seeing this country own its very first landing platform dock, which will be a heck of an asset when it comes to dealing with humanitarian disaster and relief operations, something that we're seeing more and more of as the climate has changed.   \n",
       "4  also within this work that we have undertaken in the wellbeing budget 2020, we are looking at \"just transition—supporting new zealand in the transition to a climate-resilient, sustainable, and low-emission economy\". new zealand first has always said—and we've worked with the farmers closely and come up with a good solution, despite the members opposite—that a good proposition for new zealand exporters is to stand up in our world market and put the provenance to our buyers around the world and to have that story to tell about happy employees working and earning a good living in their job and about an economy that understands their world commitment to carbon emissions, so that our buyers around the world can take satisfaction and take pride and actually pay a premium for new zealand products because they understand, actually, the contribution that new zealand is making in terms of fighting against carbon emissions   \n",
       "\n",
       "                                                                                     original_policy_title  \n",
       "0  He Kāhui Waiora: Living Standards Framework and He Ara Waiora COVID-19: Impacts on Wellbeing (DP 20/02)  \n",
       "1                                                          Key Documents - Budget 2020 Information Release  \n",
       "2                                                          Key Documents - Budget 2020 Information Release  \n",
       "3                                                          Key Documents - Budget 2020 Information Release  \n",
       "4                                                          Key Documents - Budget 2020 Information Release  "
      ]
     },
     "execution_count": 60,
     "metadata": {},
     "output_type": "execute_result"
    }
   ],
   "source": [
    "matched_rows.head()"
   ]
  },
  {
   "cell_type": "code",
   "execution_count": 21,
   "metadata": {},
   "outputs": [],
   "source": [
    "# Extract the 'speaker' and 'matching_title' columns\n",
    "nodes = pd.concat([matched_rows['speaker'], matched_rows['matching_title']]).unique()\n",
    "\n",
    "# Create a dictionary to map each node to a numeric id\n",
    "node_dict = {node: i for i, node in enumerate(nodes)}\n",
    "\n",
    "# Create a list of edges, where each edge is represented by a tuple of the source node and target node\n",
    "edges = []\n",
    "for i, row in matched_rows.iterrows():\n",
    "    speakers = row['speaker']\n",
    "    matching_title = row['matching_title']\n",
    "    edges.append((speakers, matching_title))\n",
    "\n",
    "# Create a dataframe from the list of edges\n",
    "edges_df = pd.DataFrame(edges, columns=['Source', 'Target'])\n",
    "\n",
    "# Replace the 'Source' and 'Target' columns with their corresponding numeric ids\n",
    "edges_df['Source'] = edges_df['Source'].map(node_dict)\n",
    "edges_df['Target'] = edges_df['Target'].map(node_dict)\n",
    "\n",
    "# Map the numeric ids back to the original 'authors' and 'policy_doc_source' values\n",
    "edges_df['Source'] = edges_df['Source'].map(dict(zip(range(len(node_dict)), node_dict)))\n",
    "edges_df['Target'] = edges_df['Target'].map(dict(zip(range(len(node_dict)), node_dict)))\n",
    "\n",
    "# Save the edges dataframe to a CSV file\n",
    "edges_df.to_csv('../data/Overton/covid_03_01/parliament_policy_title_edges.csv', index=False)"
   ]
  },
  {
   "cell_type": "code",
   "execution_count": 12,
   "metadata": {},
   "outputs": [
    {
     "name": "stderr",
     "output_type": "stream",
     "text": [
      "/usr/local/lib/python3.7/site-packages/ipykernel_launcher.py:2: SettingWithCopyWarning: \n",
      "A value is trying to be set on a copy of a slice from a DataFrame.\n",
      "Try using .loc[row_indexer,col_indexer] = value instead\n",
      "\n",
      "See the caveats in the documentation: https://pandas.pydata.org/pandas-docs/stable/user_guide/indexing.html#returning-a-view-versus-a-copy\n",
      "  \n"
     ]
    },
    {
     "data": {
      "text/html": [
       "<div>\n",
       "<style scoped>\n",
       "    .dataframe tbody tr th:only-of-type {\n",
       "        vertical-align: middle;\n",
       "    }\n",
       "\n",
       "    .dataframe tbody tr th {\n",
       "        vertical-align: top;\n",
       "    }\n",
       "\n",
       "    .dataframe thead th {\n",
       "        text-align: right;\n",
       "    }\n",
       "</style>\n",
       "<table border=\"1\" class=\"dataframe\">\n",
       "  <thead>\n",
       "    <tr style=\"text-align: right;\">\n",
       "      <th></th>\n",
       "      <th>Unnamed: 0</th>\n",
       "      <th>file_name</th>\n",
       "      <th>url</th>\n",
       "      <th>published_date</th>\n",
       "      <th>file_type</th>\n",
       "      <th>file_content</th>\n",
       "      <th>cabinet_matching_title</th>\n",
       "    </tr>\n",
       "  </thead>\n",
       "  <tbody>\n",
       "    <tr>\n",
       "      <th>34</th>\n",
       "      <td>34</td>\n",
       "      <td>ALC2-20802021-COVID-19-Response-Further-Auckland-Community-Cases.pdf</td>\n",
       "      <td>https://www.dpmc.govt.nz/sites/default/files/2023-01/ALC2-20802021-COVID-19-Response-Further-Auckland-Community-Cases.pdf</td>\n",
       "      <td>2021-08-20</td>\n",
       "      <td>Cabinet Paper and Minute</td>\n",
       "      <td>SENSITIVEOffice of the Minister for COVID-19 ResponseCabinetCOVID-19 RESPONSE: FURTHER AUCKLAND COMMUNITY CASESdProposal1 This paper reviews the situation in response to further community COVID-19ecases identified in Auckland since Case A was identified on 17 August 2021. Ipropose keeping all of New Zealand at Alert Level 4 with another review onsMonday 23 August.aRelationship with Government priorities2 This paper concerns the Government’s response to COVID-19.eSummaryl3 Following the decision to move Auckland and Coromandel to Alert Level 4 untile11.59pm on 24 August and the rest of New Zealand to Alert Level 4 until11.59pm on 20 August 2021, a decision is required about the approach for theRrest of New Zealand for the next period.4 As at 9am on Friday 20 August, 30 community cases have been detected thatare linked to the Auckland outbreak. There are 28 cases within Auckland andytwo within Wellington. The index case of the Auckland community outbreakremains unknown and source inv...</td>\n",
       "      <td>budget 2020</td>\n",
       "    </tr>\n",
       "  </tbody>\n",
       "</table>\n",
       "</div>"
      ],
      "text/plain": [
       "    Unnamed: 0  \\\n",
       "34          34   \n",
       "\n",
       "                                                               file_name  \\\n",
       "34  ALC2-20802021-COVID-19-Response-Further-Auckland-Community-Cases.pdf   \n",
       "\n",
       "                                                                                                                          url  \\\n",
       "34  https://www.dpmc.govt.nz/sites/default/files/2023-01/ALC2-20802021-COVID-19-Response-Further-Auckland-Community-Cases.pdf   \n",
       "\n",
       "   published_date                 file_type  \\\n",
       "34     2021-08-20  Cabinet Paper and Minute   \n",
       "\n",
       "                                                                                                                                                                                                                                                                                                                                                                                                                                                                                                                                                                                                                                                                                                                                                                                                                                                                                                                                                                                                                               file_content  \\\n",
       "34  SENSITIVEOffice of the Minister for COVID-19 ResponseCabinetCOVID-19 RESPONSE: FURTHER AUCKLAND COMMUNITY CASESdProposal1 This paper reviews the situation in response to further community COVID-19ecases identified in Auckland since Case A was identified on 17 August 2021. Ipropose keeping all of New Zealand at Alert Level 4 with another review onsMonday 23 August.aRelationship with Government priorities2 This paper concerns the Government’s response to COVID-19.eSummaryl3 Following the decision to move Auckland and Coromandel to Alert Level 4 untile11.59pm on 24 August and the rest of New Zealand to Alert Level 4 until11.59pm on 20 August 2021, a decision is required about the approach for theRrest of New Zealand for the next period.4 As at 9am on Friday 20 August, 30 community cases have been detected thatare linked to the Auckland outbreak. There are 28 cases within Auckland andytwo within Wellington. The index case of the Auckland community outbreakremains unknown and source inv...   \n",
       "\n",
       "   cabinet_matching_title  \n",
       "34            budget 2020  "
      ]
     },
     "execution_count": 12,
     "metadata": {},
     "output_type": "execute_result"
    }
   ],
   "source": [
    "# Extract matching policy titles\n",
    "matched_cabinet_rows['cabinet_matching_title'] = matched_cabinet_rows['file_content'].str.lower().str.extract(f\"({pattern1})\")\n",
    "# Reset the index of matched_rows\n",
    "matched_cabinet_rows"
   ]
  },
  {
   "cell_type": "code",
   "execution_count": 61,
   "metadata": {},
   "outputs": [],
   "source": [
    "# Save the matched rows to a CSV file\n",
    "matched_rows.to_csv('../data/Overton/covid_03_01/title_matched_parliament.csv', index=False)"
   ]
  },
  {
   "cell_type": "code",
   "execution_count": 8,
   "metadata": {},
   "outputs": [],
   "source": [
    "parliament_policy_connection = pd.read_csv('../data/Overton/covid_03_01/title_matched_parliament.csv')\n",
    "parliament_policy_connection.drop(columns='Unnamed: 0', inplace=True)"
   ]
  },
  {
   "cell_type": "code",
   "execution_count": 9,
   "metadata": {},
   "outputs": [
    {
     "name": "stdout",
     "output_type": "stream",
     "text": [
      "<class 'pandas.core.frame.DataFrame'>\n",
      "RangeIndex: 178 entries, 0 to 177\n",
      "Data columns (total 6 columns):\n",
      " #   Column                 Non-Null Count  Dtype \n",
      "---  ------                 --------------  ----- \n",
      " 0   date                   178 non-null    object\n",
      " 1   content                178 non-null    object\n",
      " 2   speaker                178 non-null    object\n",
      " 3   matching_title         178 non-null    object\n",
      " 4   matching_sentences     178 non-null    object\n",
      " 5   original_policy_title  178 non-null    object\n",
      "dtypes: object(6)\n",
      "memory usage: 8.5+ KB\n"
     ]
    }
   ],
   "source": [
    "parliament_policy_connection.info()"
   ]
  },
  {
   "cell_type": "code",
   "execution_count": 11,
   "metadata": {},
   "outputs": [
    {
     "data": {
      "text/plain": [
       "13"
      ]
     },
     "execution_count": 11,
     "metadata": {},
     "output_type": "execute_result"
    }
   ],
   "source": [
    "parliament_policy_connection['original_policy_title'].nunique()"
   ]
  },
  {
   "cell_type": "code",
   "execution_count": 12,
   "metadata": {},
   "outputs": [
    {
     "data": {
      "text/plain": [
       "['He Kāhui Waiora: Living Standards Framework and He Ara Waiora COVID-19: Impacts on Wellbeing (DP 20/02)',\n",
       " 'Key Documents - Budget 2020 Information Release',\n",
       " 'COVID-19 Economic Package at a Glance: He Waka Eke Noa: We Are All Working Together - April 2020',\n",
       " 'Vote Business, Science and Innovation - Economic Development and Infrastructure Sector - Estimates 2021/22',\n",
       " 'Not 100% – but four steps closer to sustainable tourism',\n",
       " 'Youth Justice Indicators Summary Report December 2020',\n",
       " 'The Government’s response to He Pou a Rangi – Climate Change Commission’s recommendations',\n",
       " 'Regulatory Impact Statement: Timing and frequency of the Māori Electoral Option',\n",
       " 'Strategic Tourism Assets Protection Programme : Six-Month Update',\n",
       " 'Whakamaua: Māori Health Action Plan 2020-2025',\n",
       " 'Action for healthy waterways: Section 32 evaluation report',\n",
       " 'Releasing the draft Digital Technologies Industry Transformation Plan',\n",
       " \"New Zealand's Productivity Performance: Taking a Broader View (AN 22/05)\"]"
      ]
     },
     "execution_count": 12,
     "metadata": {},
     "output_type": "execute_result"
    }
   ],
   "source": [
    "with open('../data/Overton/covid_03_01/parliament_matched_title.txt', 'r') as file:\n",
    "    parliament_matched_title = [line.strip() for line in file.readlines()]\n",
    "parliament_matched_title"
   ]
  },
  {
   "cell_type": "code",
   "execution_count": 14,
   "metadata": {},
   "outputs": [],
   "source": [
    "# Convert parliament_matched_title to lowercase\n",
    "parliament_matched_title_lower = [title.lower() for title in parliament_matched_title]\n",
    "\n",
    "# Convert citing_content['policy_doc_title'] to lowercase and strip whitespace\n",
    "parliament_policy_connection['original_policy_title'] = parliament_policy_connection['original_policy_title'].str.lower().str.strip()\n",
    "\n",
    "# Match titles\n",
    "matched_titles_13_parliament = parliament_policy_connection[parliament_policy_connection['original_policy_title'].isin(parliament_matched_title_lower)]['original_policy_title'].tolist()\n",
    "\n",
    "# Find unmatched titles\n",
    "unmatched_titles_13_parliament = [title for title in parliament_matched_title_lower if title not in matched_titles_13_parliament]"
   ]
  },
  {
   "cell_type": "code",
   "execution_count": 15,
   "metadata": {},
   "outputs": [
    {
     "name": "stdout",
     "output_type": "stream",
     "text": [
      "Matched titles:\n",
      "['key documents - budget 2020 information release', 'youth justice indicators summary report december 2020', 'releasing the draft digital technologies industry transformation plan', 'covid-19 economic package at a glance: he waka eke noa: we are all working together - april 2020', 'the government’s response to he pou a rangi – climate change commission’s recommendations', 'strategic tourism assets protection programme : six-month update', \"new zealand's productivity performance: taking a broader view (an 22/05)\", 'he kāhui waiora: living standards framework and he ara waiora covid-19: impacts on wellbeing (dp 20/02)', 'regulatory impact statement: timing and frequency of the māori electoral option', 'action for healthy waterways: section 32 evaluation report', 'not 100% – but four steps closer to sustainable tourism', 'whakamaua: māori health action plan 2020-2025', 'vote business, science and innovation - economic development and infrastructure sector - estimates 2021/22']\n",
      "Unmatched titles:\n",
      "[]\n"
     ]
    }
   ],
   "source": [
    "# Print the matched and unmatched titles\n",
    "matched_titles_13_parliament = list(set(matched_titles_13_parliament))\n",
    "print(\"Matched titles:\")\n",
    "print(matched_titles_13_parliament)\n",
    "print(\"Unmatched titles:\")\n",
    "print(unmatched_titles_13_parliament)"
   ]
  },
  {
   "cell_type": "code",
   "execution_count": 16,
   "metadata": {},
   "outputs": [],
   "source": [
    "science_policy_connection = pd.read_csv('../data/Overton/covid_03_01/science_policy_connection.csv')"
   ]
  },
  {
   "cell_type": "code",
   "execution_count": 18,
   "metadata": {},
   "outputs": [],
   "source": [
    "science_policy_connection.drop(columns='index', inplace=True)"
   ]
  },
  {
   "cell_type": "code",
   "execution_count": 19,
   "metadata": {},
   "outputs": [
    {
     "name": "stdout",
     "output_type": "stream",
     "text": [
      "<class 'pandas.core.frame.DataFrame'>\n",
      "RangeIndex: 1103 entries, 0 to 1102\n",
      "Data columns (total 11 columns):\n",
      " #   Column                  Non-Null Count  Dtype \n",
      "---  ------                  --------------  ----- \n",
      " 0   authors_institution     1099 non-null   object\n",
      " 1   authors                 1099 non-null   object\n",
      " 2   policy_document_id      1103 non-null   object\n",
      " 3   overton_url             1103 non-null   object\n",
      " 4   policy_doc_title        1103 non-null   object\n",
      " 5   policy_doc_description  418 non-null    object\n",
      " 6   published_date          1103 non-null   object\n",
      " 7   policy_doc_area         1103 non-null   object\n",
      " 8   policy_doc_source       1103 non-null   object\n",
      " 9   citing_paper_text       1067 non-null   object\n",
      " 10  citing_paper_doi        1103 non-null   object\n",
      "dtypes: object(11)\n",
      "memory usage: 94.9+ KB\n"
     ]
    }
   ],
   "source": [
    "science_policy_connection.info()"
   ]
  },
  {
   "cell_type": "code",
   "execution_count": 20,
   "metadata": {},
   "outputs": [],
   "source": [
    "# create a new column 'parliament_related_discussion' in policy_research_content\n",
    "science_policy_connection['parliament_related_discussion'] = ''\n",
    "science_policy_connection['parliament_related_speaker'] = ''\n",
    "science_policy_connection['parliament_discussion_date'] = ''"
   ]
  },
  {
   "cell_type": "code",
   "execution_count": 28,
   "metadata": {},
   "outputs": [],
   "source": [
    "# Iterate over parliament_policy_connection\n",
    "for index, row in parliament_policy_connection.iterrows():\n",
    "    # Extract the matching title from the matched rows dataframe\n",
    "    matching_title = row['original_policy_title'].lower().strip()\n",
    "\n",
    "    # Find all matching rows in policy_research_content based on the lowercased policy_doc_title\n",
    "    matching_rows = science_policy_connection.loc[science_policy_connection['policy_doc_title'] == matching_title]\n",
    "\n",
    "    # Iterate over all matching rows\n",
    "    for matching_index in matching_rows.index:\n",
    "        # Extract the matching sentences and speakers from the matched rows dataframe\n",
    "        matching_sentences = row['matching_sentences']\n",
    "        matching_speakers = row['speaker']\n",
    "        matching_date = row['date']\n",
    "\n",
    "        # Set the value of the 'parliament_related_discussion' and 'parliament_related_speaker' columns to the matching results\n",
    "        science_policy_connection.at[matching_index, 'parliament_related_discussion'] = matching_sentences\n",
    "        science_policy_connection.at[matching_index, 'parliament_related_speaker'] = matching_speakers\n",
    "        science_policy_connection.at[matching_index, 'parliament_discussion_date'] = matching_date"
   ]
  },
  {
   "cell_type": "code",
   "execution_count": 29,
   "metadata": {},
   "outputs": [],
   "source": [
    "science_policy_parliament_connection = science_policy_connection"
   ]
  },
  {
   "cell_type": "code",
   "execution_count": 30,
   "metadata": {},
   "outputs": [
    {
     "name": "stdout",
     "output_type": "stream",
     "text": [
      "<class 'pandas.core.frame.DataFrame'>\n",
      "RangeIndex: 1103 entries, 0 to 1102\n",
      "Data columns (total 14 columns):\n",
      " #   Column                         Non-Null Count  Dtype \n",
      "---  ------                         --------------  ----- \n",
      " 0   authors_institution            1099 non-null   object\n",
      " 1   authors                        1099 non-null   object\n",
      " 2   policy_document_id             1103 non-null   object\n",
      " 3   overton_url                    1103 non-null   object\n",
      " 4   policy_doc_title               1103 non-null   object\n",
      " 5   policy_doc_description         418 non-null    object\n",
      " 6   published_date                 1103 non-null   object\n",
      " 7   policy_doc_area                1103 non-null   object\n",
      " 8   policy_doc_source              1103 non-null   object\n",
      " 9   citing_paper_text              1067 non-null   object\n",
      " 10  citing_paper_doi               1103 non-null   object\n",
      " 11  parliament_related_discussion  1103 non-null   object\n",
      " 12  parliament_related_speaker     1103 non-null   object\n",
      " 13  parliament_discussion_date     1103 non-null   object\n",
      "dtypes: object(14)\n",
      "memory usage: 120.8+ KB\n"
     ]
    }
   ],
   "source": [
    "science_policy_parliament_connection.info()"
   ]
  },
  {
   "cell_type": "code",
   "execution_count": 33,
   "metadata": {},
   "outputs": [],
   "source": [
    "science_policy_parliament_connection.to_csv('../data/Overton/covid_03_01/science_policy_parliament_connection.csv',index=False)"
   ]
  },
  {
   "cell_type": "code",
   "execution_count": 31,
   "metadata": {},
   "outputs": [
    {
     "data": {
      "text/html": [
       "<div>\n",
       "<style scoped>\n",
       "    .dataframe tbody tr th:only-of-type {\n",
       "        vertical-align: middle;\n",
       "    }\n",
       "\n",
       "    .dataframe tbody tr th {\n",
       "        vertical-align: top;\n",
       "    }\n",
       "\n",
       "    .dataframe thead th {\n",
       "        text-align: right;\n",
       "    }\n",
       "</style>\n",
       "<table border=\"1\" class=\"dataframe\">\n",
       "  <thead>\n",
       "    <tr style=\"text-align: right;\">\n",
       "      <th></th>\n",
       "      <th>authors_institution</th>\n",
       "      <th>authors</th>\n",
       "      <th>policy_document_id</th>\n",
       "      <th>overton_url</th>\n",
       "      <th>policy_doc_title</th>\n",
       "      <th>policy_doc_description</th>\n",
       "      <th>published_date</th>\n",
       "      <th>policy_doc_area</th>\n",
       "      <th>policy_doc_source</th>\n",
       "      <th>citing_paper_text</th>\n",
       "      <th>citing_paper_doi</th>\n",
       "      <th>parliament_related_discussion</th>\n",
       "      <th>parliament_related_speaker</th>\n",
       "      <th>parliament_discussion_date</th>\n",
       "    </tr>\n",
       "  </thead>\n",
       "  <tbody>\n",
       "    <tr>\n",
       "      <th>2</th>\n",
       "      <td>Motu Economic and Public Policy Research</td>\n",
       "      <td>Arthur Grimes</td>\n",
       "      <td>treasurynz-f80edb83327a37bc996c8034f492312a</td>\n",
       "      <td>http://app.overton.io/document.php?policy_docu...</td>\n",
       "      <td>new zealand's productivity performance: taking...</td>\n",
       "      <td>NaN</td>\n",
       "      <td>2022-09-28</td>\n",
       "      <td>['economy, business and finance', 'science and...</td>\n",
       "      <td>New Zealand Treasury</td>\n",
       "      <td>On this second point, Grimes and Hyland (2020)...</td>\n",
       "      <td>10.1111/sjpe.12237</td>\n",
       "      <td>at the heart of this is our drive for stronger...</td>\n",
       "      <td>Hon DAVID PARKER (Associate Minister of Finance)</td>\n",
       "      <td>2019-08-27</td>\n",
       "    </tr>\n",
       "    <tr>\n",
       "      <th>10</th>\n",
       "      <td>Victoria University of Wellington</td>\n",
       "      <td>Arthur Grimes</td>\n",
       "      <td>treasurynz-f80edb83327a37bc996c8034f492312a</td>\n",
       "      <td>http://app.overton.io/document.php?policy_docu...</td>\n",
       "      <td>new zealand's productivity performance: taking...</td>\n",
       "      <td>NaN</td>\n",
       "      <td>2022-09-28</td>\n",
       "      <td>['economy, business and finance', 'science and...</td>\n",
       "      <td>New Zealand Treasury</td>\n",
       "      <td>On this second point, Grimes and Hyland (2020)...</td>\n",
       "      <td>10.1111/sjpe.12237</td>\n",
       "      <td>at the heart of this is our drive for stronger...</td>\n",
       "      <td>Hon DAVID PARKER (Associate Minister of Finance)</td>\n",
       "      <td>2019-08-27</td>\n",
       "    </tr>\n",
       "    <tr>\n",
       "      <th>19</th>\n",
       "      <td>Motu Economic and Public Policy Research</td>\n",
       "      <td>Richard Fabling</td>\n",
       "      <td>treasurynz-f80edb83327a37bc996c8034f492312a</td>\n",
       "      <td>http://app.overton.io/document.php?policy_docu...</td>\n",
       "      <td>new zealand's productivity performance: taking...</td>\n",
       "      <td>NaN</td>\n",
       "      <td>2022-09-28</td>\n",
       "      <td>['economy, business and finance', 'science and...</td>\n",
       "      <td>New Zealand Treasury</td>\n",
       "      <td>For example, Fabling and Sanderson (2013) find...</td>\n",
       "      <td>10.1016/j.jinteco.2012.08.008</td>\n",
       "      <td>at the heart of this is our drive for stronger...</td>\n",
       "      <td>Hon DAVID PARKER (Associate Minister of Finance)</td>\n",
       "      <td>2019-08-27</td>\n",
       "    </tr>\n",
       "    <tr>\n",
       "      <th>83</th>\n",
       "      <td>University of Chicago</td>\n",
       "      <td>Chad Syverson</td>\n",
       "      <td>treasurynz-f80edb83327a37bc996c8034f492312a</td>\n",
       "      <td>http://app.overton.io/document.php?policy_docu...</td>\n",
       "      <td>new zealand's productivity performance: taking...</td>\n",
       "      <td>NaN</td>\n",
       "      <td>2022-09-28</td>\n",
       "      <td>['economy, business and finance', 'science and...</td>\n",
       "      <td>New Zealand Treasury</td>\n",
       "      <td>Fabling (2021) summarises several New Zealand ...</td>\n",
       "      <td>10.1257/jel.49.2.326</td>\n",
       "      <td>at the heart of this is our drive for stronger...</td>\n",
       "      <td>Hon DAVID PARKER (Associate Minister of Finance)</td>\n",
       "      <td>2019-08-27</td>\n",
       "    </tr>\n",
       "    <tr>\n",
       "      <th>86</th>\n",
       "      <td>University of Waikato</td>\n",
       "      <td>Lynda Sanderson</td>\n",
       "      <td>treasurynz-f80edb83327a37bc996c8034f492312a</td>\n",
       "      <td>http://app.overton.io/document.php?policy_docu...</td>\n",
       "      <td>new zealand's productivity performance: taking...</td>\n",
       "      <td>NaN</td>\n",
       "      <td>2022-09-28</td>\n",
       "      <td>['economy, business and finance', 'science and...</td>\n",
       "      <td>New Zealand Treasury</td>\n",
       "      <td>For example, Fabling and Sanderson (2013) find...</td>\n",
       "      <td>10.1016/j.jinteco.2012.08.008</td>\n",
       "      <td>at the heart of this is our drive for stronger...</td>\n",
       "      <td>Hon DAVID PARKER (Associate Minister of Finance)</td>\n",
       "      <td>2019-08-27</td>\n",
       "    </tr>\n",
       "    <tr>\n",
       "      <th>...</th>\n",
       "      <td>...</td>\n",
       "      <td>...</td>\n",
       "      <td>...</td>\n",
       "      <td>...</td>\n",
       "      <td>...</td>\n",
       "      <td>...</td>\n",
       "      <td>...</td>\n",
       "      <td>...</td>\n",
       "      <td>...</td>\n",
       "      <td>...</td>\n",
       "      <td>...</td>\n",
       "      <td>...</td>\n",
       "      <td>...</td>\n",
       "      <td>...</td>\n",
       "    </tr>\n",
       "    <tr>\n",
       "      <th>1098</th>\n",
       "      <td>University of Turku</td>\n",
       "      <td>Mikko Niemelä</td>\n",
       "      <td>treasurynz-bc13ae5f63cb982554314cd66475a593</td>\n",
       "      <td>http://app.overton.io/document.php?policy_docu...</td>\n",
       "      <td>he kāhui waiora: living standards framework an...</td>\n",
       "      <td>The COVID‑19 pandemic is having major impacts ...</td>\n",
       "      <td>2020-07-07</td>\n",
       "      <td>['science and technology', 'education', 'labou...</td>\n",
       "      <td>New Zealand Treasury</td>\n",
       "      <td>NaN</td>\n",
       "      <td>10.1111/roiw.12409</td>\n",
       "      <td>what we've got is wellbeing objectives being i...</td>\n",
       "      <td>Rt Hon DAVID  CARTER</td>\n",
       "      <td>2020-06-24</td>\n",
       "    </tr>\n",
       "    <tr>\n",
       "      <th>1099</th>\n",
       "      <td>University of Turku</td>\n",
       "      <td>Esa Karonen</td>\n",
       "      <td>treasurynz-bc13ae5f63cb982554314cd66475a593</td>\n",
       "      <td>http://app.overton.io/document.php?policy_docu...</td>\n",
       "      <td>he kāhui waiora: living standards framework an...</td>\n",
       "      <td>The COVID‑19 pandemic is having major impacts ...</td>\n",
       "      <td>2020-07-07</td>\n",
       "      <td>['science and technology', 'education', 'labou...</td>\n",
       "      <td>New Zealand Treasury</td>\n",
       "      <td>NaN</td>\n",
       "      <td>10.1111/roiw.12409</td>\n",
       "      <td>what we've got is wellbeing objectives being i...</td>\n",
       "      <td>Rt Hon DAVID  CARTER</td>\n",
       "      <td>2020-06-24</td>\n",
       "    </tr>\n",
       "    <tr>\n",
       "      <th>1100</th>\n",
       "      <td>Johns Hopkins University</td>\n",
       "      <td>Linda Steffel Olson</td>\n",
       "      <td>treasurynz-bc13ae5f63cb982554314cd66475a593</td>\n",
       "      <td>http://app.overton.io/document.php?policy_docu...</td>\n",
       "      <td>he kāhui waiora: living standards framework an...</td>\n",
       "      <td>The COVID‑19 pandemic is having major impacts ...</td>\n",
       "      <td>2020-07-07</td>\n",
       "      <td>['science and technology', 'education', 'labou...</td>\n",
       "      <td>New Zealand Treasury</td>\n",
       "      <td>NaN</td>\n",
       "      <td>10.1177/000312240707200202</td>\n",
       "      <td>what we've got is wellbeing objectives being i...</td>\n",
       "      <td>Rt Hon DAVID  CARTER</td>\n",
       "      <td>2020-06-24</td>\n",
       "    </tr>\n",
       "    <tr>\n",
       "      <th>1101</th>\n",
       "      <td>Johns Hopkins University</td>\n",
       "      <td>Doris R. Entwisle</td>\n",
       "      <td>treasurynz-bc13ae5f63cb982554314cd66475a593</td>\n",
       "      <td>http://app.overton.io/document.php?policy_docu...</td>\n",
       "      <td>he kāhui waiora: living standards framework an...</td>\n",
       "      <td>The COVID‑19 pandemic is having major impacts ...</td>\n",
       "      <td>2020-07-07</td>\n",
       "      <td>['science and technology', 'education', 'labou...</td>\n",
       "      <td>New Zealand Treasury</td>\n",
       "      <td>NaN</td>\n",
       "      <td>10.1177/000312240707200202</td>\n",
       "      <td>what we've got is wellbeing objectives being i...</td>\n",
       "      <td>Rt Hon DAVID  CARTER</td>\n",
       "      <td>2020-06-24</td>\n",
       "    </tr>\n",
       "    <tr>\n",
       "      <th>1102</th>\n",
       "      <td>Johns Hopkins University</td>\n",
       "      <td>Karl L. Alexander</td>\n",
       "      <td>treasurynz-bc13ae5f63cb982554314cd66475a593</td>\n",
       "      <td>http://app.overton.io/document.php?policy_docu...</td>\n",
       "      <td>he kāhui waiora: living standards framework an...</td>\n",
       "      <td>The COVID‑19 pandemic is having major impacts ...</td>\n",
       "      <td>2020-07-07</td>\n",
       "      <td>['science and technology', 'education', 'labou...</td>\n",
       "      <td>New Zealand Treasury</td>\n",
       "      <td>NaN</td>\n",
       "      <td>10.1177/000312240707200202</td>\n",
       "      <td>what we've got is wellbeing objectives being i...</td>\n",
       "      <td>Rt Hon DAVID  CARTER</td>\n",
       "      <td>2020-06-24</td>\n",
       "    </tr>\n",
       "  </tbody>\n",
       "</table>\n",
       "<p>98 rows × 14 columns</p>\n",
       "</div>"
      ],
      "text/plain": [
       "                            authors_institution              authors  \\\n",
       "2     Motu Economic and Public Policy Research        Arthur Grimes    \n",
       "10           Victoria University of Wellington        Arthur Grimes    \n",
       "19    Motu Economic and Public Policy Research      Richard Fabling    \n",
       "83                       University of Chicago        Chad Syverson    \n",
       "86                       University of Waikato      Lynda Sanderson    \n",
       "...                                         ...                  ...   \n",
       "1098                        University of Turku        Mikko Niemelä   \n",
       "1099                        University of Turku          Esa Karonen   \n",
       "1100                   Johns Hopkins University  Linda Steffel Olson   \n",
       "1101                   Johns Hopkins University    Doris R. Entwisle   \n",
       "1102                   Johns Hopkins University    Karl L. Alexander   \n",
       "\n",
       "                               policy_document_id  \\\n",
       "2     treasurynz-f80edb83327a37bc996c8034f492312a   \n",
       "10    treasurynz-f80edb83327a37bc996c8034f492312a   \n",
       "19    treasurynz-f80edb83327a37bc996c8034f492312a   \n",
       "83    treasurynz-f80edb83327a37bc996c8034f492312a   \n",
       "86    treasurynz-f80edb83327a37bc996c8034f492312a   \n",
       "...                                           ...   \n",
       "1098  treasurynz-bc13ae5f63cb982554314cd66475a593   \n",
       "1099  treasurynz-bc13ae5f63cb982554314cd66475a593   \n",
       "1100  treasurynz-bc13ae5f63cb982554314cd66475a593   \n",
       "1101  treasurynz-bc13ae5f63cb982554314cd66475a593   \n",
       "1102  treasurynz-bc13ae5f63cb982554314cd66475a593   \n",
       "\n",
       "                                            overton_url  \\\n",
       "2     http://app.overton.io/document.php?policy_docu...   \n",
       "10    http://app.overton.io/document.php?policy_docu...   \n",
       "19    http://app.overton.io/document.php?policy_docu...   \n",
       "83    http://app.overton.io/document.php?policy_docu...   \n",
       "86    http://app.overton.io/document.php?policy_docu...   \n",
       "...                                                 ...   \n",
       "1098  http://app.overton.io/document.php?policy_docu...   \n",
       "1099  http://app.overton.io/document.php?policy_docu...   \n",
       "1100  http://app.overton.io/document.php?policy_docu...   \n",
       "1101  http://app.overton.io/document.php?policy_docu...   \n",
       "1102  http://app.overton.io/document.php?policy_docu...   \n",
       "\n",
       "                                       policy_doc_title  \\\n",
       "2     new zealand's productivity performance: taking...   \n",
       "10    new zealand's productivity performance: taking...   \n",
       "19    new zealand's productivity performance: taking...   \n",
       "83    new zealand's productivity performance: taking...   \n",
       "86    new zealand's productivity performance: taking...   \n",
       "...                                                 ...   \n",
       "1098  he kāhui waiora: living standards framework an...   \n",
       "1099  he kāhui waiora: living standards framework an...   \n",
       "1100  he kāhui waiora: living standards framework an...   \n",
       "1101  he kāhui waiora: living standards framework an...   \n",
       "1102  he kāhui waiora: living standards framework an...   \n",
       "\n",
       "                                 policy_doc_description published_date  \\\n",
       "2                                                   NaN     2022-09-28   \n",
       "10                                                  NaN     2022-09-28   \n",
       "19                                                  NaN     2022-09-28   \n",
       "83                                                  NaN     2022-09-28   \n",
       "86                                                  NaN     2022-09-28   \n",
       "...                                                 ...            ...   \n",
       "1098  The COVID‑19 pandemic is having major impacts ...     2020-07-07   \n",
       "1099  The COVID‑19 pandemic is having major impacts ...     2020-07-07   \n",
       "1100  The COVID‑19 pandemic is having major impacts ...     2020-07-07   \n",
       "1101  The COVID‑19 pandemic is having major impacts ...     2020-07-07   \n",
       "1102  The COVID‑19 pandemic is having major impacts ...     2020-07-07   \n",
       "\n",
       "                                        policy_doc_area     policy_doc_source  \\\n",
       "2     ['economy, business and finance', 'science and...  New Zealand Treasury   \n",
       "10    ['economy, business and finance', 'science and...  New Zealand Treasury   \n",
       "19    ['economy, business and finance', 'science and...  New Zealand Treasury   \n",
       "83    ['economy, business and finance', 'science and...  New Zealand Treasury   \n",
       "86    ['economy, business and finance', 'science and...  New Zealand Treasury   \n",
       "...                                                 ...                   ...   \n",
       "1098  ['science and technology', 'education', 'labou...  New Zealand Treasury   \n",
       "1099  ['science and technology', 'education', 'labou...  New Zealand Treasury   \n",
       "1100  ['science and technology', 'education', 'labou...  New Zealand Treasury   \n",
       "1101  ['science and technology', 'education', 'labou...  New Zealand Treasury   \n",
       "1102  ['science and technology', 'education', 'labou...  New Zealand Treasury   \n",
       "\n",
       "                                      citing_paper_text  \\\n",
       "2     On this second point, Grimes and Hyland (2020)...   \n",
       "10    On this second point, Grimes and Hyland (2020)...   \n",
       "19    For example, Fabling and Sanderson (2013) find...   \n",
       "83    Fabling (2021) summarises several New Zealand ...   \n",
       "86    For example, Fabling and Sanderson (2013) find...   \n",
       "...                                                 ...   \n",
       "1098                                                NaN   \n",
       "1099                                                NaN   \n",
       "1100                                                NaN   \n",
       "1101                                                NaN   \n",
       "1102                                                NaN   \n",
       "\n",
       "                   citing_paper_doi  \\\n",
       "2                10.1111/sjpe.12237   \n",
       "10               10.1111/sjpe.12237   \n",
       "19    10.1016/j.jinteco.2012.08.008   \n",
       "83             10.1257/jel.49.2.326   \n",
       "86    10.1016/j.jinteco.2012.08.008   \n",
       "...                             ...   \n",
       "1098             10.1111/roiw.12409   \n",
       "1099             10.1111/roiw.12409   \n",
       "1100     10.1177/000312240707200202   \n",
       "1101     10.1177/000312240707200202   \n",
       "1102     10.1177/000312240707200202   \n",
       "\n",
       "                          parliament_related_discussion  \\\n",
       "2     at the heart of this is our drive for stronger...   \n",
       "10    at the heart of this is our drive for stronger...   \n",
       "19    at the heart of this is our drive for stronger...   \n",
       "83    at the heart of this is our drive for stronger...   \n",
       "86    at the heart of this is our drive for stronger...   \n",
       "...                                                 ...   \n",
       "1098  what we've got is wellbeing objectives being i...   \n",
       "1099  what we've got is wellbeing objectives being i...   \n",
       "1100  what we've got is wellbeing objectives being i...   \n",
       "1101  what we've got is wellbeing objectives being i...   \n",
       "1102  what we've got is wellbeing objectives being i...   \n",
       "\n",
       "                            parliament_related_speaker  \\\n",
       "2     Hon DAVID PARKER (Associate Minister of Finance)   \n",
       "10    Hon DAVID PARKER (Associate Minister of Finance)   \n",
       "19    Hon DAVID PARKER (Associate Minister of Finance)   \n",
       "83    Hon DAVID PARKER (Associate Minister of Finance)   \n",
       "86    Hon DAVID PARKER (Associate Minister of Finance)   \n",
       "...                                                ...   \n",
       "1098                              Rt Hon DAVID  CARTER   \n",
       "1099                              Rt Hon DAVID  CARTER   \n",
       "1100                              Rt Hon DAVID  CARTER   \n",
       "1101                              Rt Hon DAVID  CARTER   \n",
       "1102                              Rt Hon DAVID  CARTER   \n",
       "\n",
       "     parliament_discussion_date  \n",
       "2                    2019-08-27  \n",
       "10                   2019-08-27  \n",
       "19                   2019-08-27  \n",
       "83                   2019-08-27  \n",
       "86                   2019-08-27  \n",
       "...                         ...  \n",
       "1098                 2020-06-24  \n",
       "1099                 2020-06-24  \n",
       "1100                 2020-06-24  \n",
       "1101                 2020-06-24  \n",
       "1102                 2020-06-24  \n",
       "\n",
       "[98 rows x 14 columns]"
      ]
     },
     "execution_count": 31,
     "metadata": {},
     "output_type": "execute_result"
    }
   ],
   "source": [
    "has_parliament_connection = science_policy_parliament_connection[science_policy_parliament_connection['parliament_related_discussion'].str.len() > 1]\n",
    "has_parliament_connection"
   ]
  },
  {
   "cell_type": "code",
   "execution_count": 32,
   "metadata": {},
   "outputs": [
    {
     "data": {
      "text/plain": [
       "4"
      ]
     },
     "execution_count": 32,
     "metadata": {},
     "output_type": "execute_result"
    }
   ],
   "source": [
    "has_parliament_connection['policy_document_id'].nunique()"
   ]
  },
  {
   "cell_type": "code",
   "execution_count": null,
   "metadata": {},
   "outputs": [],
   "source": []
  }
 ],
 "metadata": {
  "kernelspec": {
   "display_name": "Python 3 (ipykernel)",
   "language": "python",
   "name": "python3"
  },
  "language_info": {
   "codemirror_mode": {
    "name": "ipython",
    "version": 3
   },
   "file_extension": ".py",
   "mimetype": "text/x-python",
   "name": "python",
   "nbconvert_exporter": "python",
   "pygments_lexer": "ipython3",
   "version": "3.7.3"
  }
 },
 "nbformat": 4,
 "nbformat_minor": 2
}
